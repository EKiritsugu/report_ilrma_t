{
 "cells": [
  {
   "cell_type": "code",
   "execution_count": 1,
   "metadata": {},
   "outputs": [],
   "source": [
    "# 我要测试一下这个新的环境模拟是什么来头\n"
   ]
  },
  {
   "cell_type": "code",
   "execution_count": 10,
   "metadata": {},
   "outputs": [
    {
     "name": "stdout",
     "output_type": "stream",
     "text": [
      "['421.wav', '447.wav']\n"
     ]
    },
    {
     "ename": "IndexError",
     "evalue": "too many indices for array: array is 0-dimensional, but 1 were indexed",
     "output_type": "error",
     "traceback": [
      "\u001b[1;31m---------------------------------------------------------------------------\u001b[0m",
      "\u001b[1;31mIndexError\u001b[0m                                Traceback (most recent call last)",
      "\u001b[1;32mc:\\Users\\aalab_linziyao\\PycharmProjects\\report_ilrma_t\\test0.ipynb Cell 2\u001b[0m in \u001b[0;36m<cell line: 40>\u001b[1;34m()\u001b[0m\n\u001b[0;32m     <a href='vscode-notebook-cell:/c%3A/Users/aalab_linziyao/PycharmProjects/report_ilrma_t/test0.ipynb#W1sZmlsZQ%3D%3D?line=35'>36</a>\u001b[0m     Sig_ori \u001b[39m=\u001b[39m Sig_ori[:, :sig_np\u001b[39m.\u001b[39mshape[\u001b[39m1\u001b[39m]]\n\u001b[0;32m     <a href='vscode-notebook-cell:/c%3A/Users/aalab_linziyao/PycharmProjects/report_ilrma_t/test0.ipynb#W1sZmlsZQ%3D%3D?line=37'>38</a>\u001b[0m     \u001b[39mreturn\u001b[39;00m Sig_ori, sig_np\n\u001b[1;32m---> <a href='vscode-notebook-cell:/c%3A/Users/aalab_linziyao/PycharmProjects/report_ilrma_t/test0.ipynb#W1sZmlsZQ%3D%3D?line=39'>40</a>\u001b[0m Sig_ori, sig_np \u001b[39m=\u001b[39m simulate_3(\u001b[39m2\u001b[39;49m)\n\u001b[0;32m     <a href='vscode-notebook-cell:/c%3A/Users/aalab_linziyao/PycharmProjects/report_ilrma_t/test0.ipynb#W1sZmlsZQ%3D%3D?line=40'>41</a>\u001b[0m \u001b[39mprint\u001b[39m(np\u001b[39m.\u001b[39mshape(Sig_ori))\n",
      "\u001b[1;32mc:\\Users\\aalab_linziyao\\PycharmProjects\\report_ilrma_t\\test0.ipynb Cell 2\u001b[0m in \u001b[0;36msimulate_3\u001b[1;34m(n_ch)\u001b[0m\n\u001b[0;32m     <a href='vscode-notebook-cell:/c%3A/Users/aalab_linziyao/PycharmProjects/report_ilrma_t/test0.ipynb#W1sZmlsZQ%3D%3D?line=31'>32</a>\u001b[0m sig \u001b[39m=\u001b[39m get_sources_3(n_ch)\n\u001b[0;32m     <a href='vscode-notebook-cell:/c%3A/Users/aalab_linziyao/PycharmProjects/report_ilrma_t/test0.ipynb#W1sZmlsZQ%3D%3D?line=32'>33</a>\u001b[0m sig_np \u001b[39m=\u001b[39m np\u001b[39m.\u001b[39marray(sig)\n\u001b[1;32m---> <a href='vscode-notebook-cell:/c%3A/Users/aalab_linziyao/PycharmProjects/report_ilrma_t/test0.ipynb#W1sZmlsZQ%3D%3D?line=33'>34</a>\u001b[0m room, t_60 \u001b[39m=\u001b[39m random_room_builder(sig , n_ch)\n\u001b[0;32m     <a href='vscode-notebook-cell:/c%3A/Users/aalab_linziyao/PycharmProjects/report_ilrma_t/test0.ipynb#W1sZmlsZQ%3D%3D?line=34'>35</a>\u001b[0m Sig_ori \u001b[39m=\u001b[39m room\u001b[39m.\u001b[39mmic_array\u001b[39m.\u001b[39msignals\n\u001b[0;32m     <a href='vscode-notebook-cell:/c%3A/Users/aalab_linziyao/PycharmProjects/report_ilrma_t/test0.ipynb#W1sZmlsZQ%3D%3D?line=35'>36</a>\u001b[0m Sig_ori \u001b[39m=\u001b[39m Sig_ori[:, :sig_np\u001b[39m.\u001b[39mshape[\u001b[39m1\u001b[39m]]\n",
      "File \u001b[1;32mc:\\Users\\aalab_linziyao\\PycharmProjects\\report_ilrma_t\\room_builder.py:432\u001b[0m, in \u001b[0;36mrandom_room_builder\u001b[1;34m(source_signals, n_mics, mic_delta, fs, t60_interval, room_width_interval, room_height_interval, source_zone_height, guard_zone_width, seed)\u001b[0m\n\u001b[0;32m    430\u001b[0m premix \u001b[39m=\u001b[39m room\u001b[39m.\u001b[39msimulate(return_premix\u001b[39m=\u001b[39m\u001b[39mTrue\u001b[39;00m)\n\u001b[0;32m    431\u001b[0m n_samples \u001b[39m=\u001b[39m premix\u001b[39m.\u001b[39mshape[\u001b[39m-\u001b[39m\u001b[39m1\u001b[39m]\n\u001b[1;32m--> 432\u001b[0m mix \u001b[39m=\u001b[39m callback_noise_mixer(\n\u001b[0;32m    433\u001b[0m     premix\n\u001b[0;32m    434\u001b[0m )\n\u001b[0;32m    435\u001b[0m refs \u001b[39m=\u001b[39m np\u001b[39m.\u001b[39mzeros((n_sources\u001b[39m+\u001b[39m \u001b[39m1\u001b[39m, n_samples))\n\u001b[0;32m    436\u001b[0m refs[:\u001b[39m-\u001b[39m\u001b[39m1\u001b[39m, :] \u001b[39m=\u001b[39m premix[:n_sources, \u001b[39m0\u001b[39m, :]\n",
      "File \u001b[1;32mc:\\Users\\aalab_linziyao\\PycharmProjects\\report_ilrma_t\\room_builder.py:154\u001b[0m, in \u001b[0;36mcallback_noise_mixer\u001b[1;34m(premix, sinr, diffuse_ratio, ref_mic, n_src, n_tgt, tgt_std)\u001b[0m\n\u001b[0;32m    152\u001b[0m p_mic_ref \u001b[39m=\u001b[39m np\u001b[39m.\u001b[39mstd(premix[:, ref_mic, :], axis\u001b[39m=\u001b[39m\u001b[39m1\u001b[39m)\n\u001b[0;32m    153\u001b[0m premix \u001b[39m/\u001b[39m\u001b[39m=\u001b[39m p_mic_ref[:, \u001b[39mNone\u001b[39;00m, \u001b[39mNone\u001b[39;00m]\n\u001b[1;32m--> 154\u001b[0m premix[:n_tgt, :, :] \u001b[39m*\u001b[39m\u001b[39m=\u001b[39m tgt_std[:, \u001b[39mNone\u001b[39;49;00m, \u001b[39mNone\u001b[39;49;00m]\n\u001b[0;32m    156\u001b[0m \u001b[39m# Total variance of noise components\u001b[39;00m\n\u001b[0;32m    157\u001b[0m var_noise_tot \u001b[39m=\u001b[39m \u001b[39m10\u001b[39m \u001b[39m*\u001b[39m\u001b[39m*\u001b[39m (\u001b[39m-\u001b[39msinr \u001b[39m/\u001b[39m \u001b[39m10\u001b[39m) \u001b[39m*\u001b[39m np\u001b[39m.\u001b[39msum(tgt_std \u001b[39m*\u001b[39m\u001b[39m*\u001b[39m \u001b[39m2\u001b[39m)\n",
      "\u001b[1;31mIndexError\u001b[0m: too many indices for array: array is 0-dimensional, but 1 were indexed"
     ]
    }
   ],
   "source": [
    "import numpy as np\n",
    "import random\n",
    "import os\n",
    "import librosa\n",
    "def get_sources_3(n_sources=2, T = 10):\n",
    "    dataset_dir = r'wsj'\n",
    "\n",
    "    speakers = os.listdir(dataset_dir)\n",
    "\n",
    "    sample_dir = random.sample(speakers, n_sources)\n",
    "    print(sample_dir)\n",
    "    sample_path = [\n",
    "        os.path.join(dataset_dir, sample_dir[i])\n",
    "        for i in range(n_sources)\n",
    "    ]\n",
    "\n",
    "    sig = []\n",
    "\n",
    "    for i in range(n_sources):\n",
    "        src, _ = librosa.load(sample_path[i], sr=16000)\n",
    "        sig_len = src.shape[0]\n",
    "        start = random.randint(0, sig_len - T * 16000)\n",
    "        sig.append(src[start:start+T * 16000])\n",
    "\n",
    "\n",
    "\n",
    "    return sig\n",
    "\n",
    "\n",
    "def simulate_3(n_ch = 2):\n",
    "    from room_builder import random_room_builder\n",
    "    sig = get_sources_3(n_ch)\n",
    "    sig_np = np.array(sig)\n",
    "    room, t_60 = random_room_builder(sig , n_ch)\n",
    "    Sig_ori = room.mic_array.signals\n",
    "    Sig_ori = Sig_ori[:, :sig_np.shape[1]]\n",
    "\n",
    "    return Sig_ori, sig_np\n",
    "\n",
    "Sig_ori, sig_np = simulate_3(2)\n",
    "print(np.shape(Sig_ori))"
   ]
  },
  {
   "cell_type": "code",
   "execution_count": null,
   "metadata": {},
   "outputs": [],
   "source": []
  }
 ],
 "metadata": {
  "kernelspec": {
   "display_name": "Python 3.8.0 ('tbs')",
   "language": "python",
   "name": "python3"
  },
  "language_info": {
   "codemirror_mode": {
    "name": "ipython",
    "version": 3
   },
   "file_extension": ".py",
   "mimetype": "text/x-python",
   "name": "python",
   "nbconvert_exporter": "python",
   "pygments_lexer": "ipython3",
   "version": "3.8.0"
  },
  "orig_nbformat": 4,
  "vscode": {
   "interpreter": {
    "hash": "9b80c2f7822600e87995366fe116138cf6205f5ddb86b82ca0af7010c86bd25c"
   }
  }
 },
 "nbformat": 4,
 "nbformat_minor": 2
}
